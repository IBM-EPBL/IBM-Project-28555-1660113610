{
  "cells": [
    {
      "cell_type": "markdown",
      "metadata": {
        "id": "nP5jmnM5o1Z1"
      },
      "source": [
        "# IBM Project Name: Real-Time Communication System Powered by AI for Specially Abled \n",
        "# TEAM ID: PNT2022TMID29257 \n",
        "# TEAM Member:Akshaya, Sushmitha, Priya dharshini, Abirami"
      ]
    },
    {
      "cell_type": "code",
      "execution_count": 1,
      "metadata": {
        "id": "I_mHw62oEUqr"
      },
      "outputs": [],
      "source": [
        "#import imagedatagenerator\n",
        "from keras.preprocessing.image import ImageDataGenerator"
      ]
    },
    {
      "cell_type": "code",
      "execution_count": 2,
      "metadata": {
        "id": "61VrGuKOoewu"
      },
      "outputs": [],
      "source": [
        "#training datagen\n",
        "train_datagen=ImageDataGenerator(rescale=1./255,shear_range=0.2,zoom_range=0.2,horizontal_flip=True)"
      ]
    },
    {
      "cell_type": "code",
      "execution_count": 3,
      "metadata": {
        "id": "xO75rsS3qDC5"
      },
      "outputs": [],
      "source": [
        "#testing datagen\n",
        "test_datagen=ImageDataGenerator(rescale=1./255)"
      ]
    },
    {
      "cell_type": "markdown",
      "metadata": {
        "id": "bYe1O2AfqIrf"
      },
      "source": [
        "IMPORTING tensorflow"
      ]
    },
    {
      "cell_type": "code",
      "execution_count": 4,
      "metadata": {
        "id": "ofDYoY7sqGDU"
      },
      "outputs": [],
      "source": [
        "import tensorflow as tf\n",
        "import os"
      ]
    },
    {
      "cell_type": "markdown",
      "metadata": {
        "id": "TAwZWfsjqOev"
      },
      "source": [
        "**Initialize The Model**"
      ]
    },
    {
      "cell_type": "code",
      "execution_count": 5,
      "metadata": {
        "id": "Ck6yBKf1qPZz"
      },
      "outputs": [],
      "source": [
        "#create model\n",
        "from keras.models import Sequential\n",
        "from keras.layers import Dense\n",
        "from keras.layers import Convolution2D\n",
        "from keras.layers import MaxPooling2D\n",
        "from keras.layers import Dropout\n",
        "from keras.layers import Flatten \n",
        "from tensorflow.keras.preprocessing.image import ImageDataGenerator"
      ]
    },
    {
      "cell_type": "code",
      "execution_count": 6,
      "metadata": {
        "id": "9jyZWCmLqT2F"
      },
      "outputs": [],
      "source": [
        "import numpy as np\n",
        "import matplotlib.pyplot as plt #to view graph in colab itself\n",
        "import IPython.display as display\n",
        "from PIL import Image\n",
        "import pathlib"
      ]
    },
    {
      "cell_type": "markdown",
      "metadata": {
        "id": "Tg-I2-QxqwaD"
      },
      "source": [
        "Unzipping the dataset"
      ]
    },
    {
      "cell_type": "code",
      "execution_count": null,
      "metadata": {
        "colab": {
          "base_uri": "https://localhost:8080/"
        },
        "id": "PiYShEJBqy-0",
        "outputId": "c6a42971-9514-44d3-e5f6-30515c1e6387"
      },
      "outputs": [
        {
          "output_type": "stream",
          "name": "stdout",
          "text": [
            "unzip:  cannot find or open /content/Dataset.zip, /content/Dataset.zip.zip or /content/Dataset.zip.ZIP.\n"
          ]
        }
      ],
      "source": [
        "!unzip '/content/Dataset.zip'"
      ]
    },
    {
      "cell_type": "code",
      "source": [
        "from google.colab import drive\n",
        "drive.mount('/content/drive')"
      ],
      "metadata": {
        "colab": {
          "base_uri": "https://localhost:8080/"
        },
        "id": "GjrX5Pl2TsXE",
        "outputId": "34d39bac-d075-4ba7-98d3-eb0e08f4c77c"
      },
      "execution_count": null,
      "outputs": [
        {
          "output_type": "stream",
          "name": "stdout",
          "text": [
            "Mounted at /content/drive\n"
          ]
        }
      ]
    },
    {
      "cell_type": "markdown",
      "metadata": {
        "id": "2r95_bdVuEy1"
      },
      "source": [
        "Applying ImageDataGenerator to training set"
      ]
    },
    {
      "cell_type": "code",
      "execution_count": null,
      "metadata": {
        "colab": {
          "base_uri": "https://localhost:8080/"
        },
        "id": "E18JQzzvrFpQ",
        "outputId": "82a2ea25-ccf6-4181-a596-e7f88cf44976"
      },
      "outputs": [
        {
          "output_type": "stream",
          "name": "stdout",
          "text": [
            "Found 15750 images belonging to 9 classes.\n"
          ]
        }
      ],
      "source": [
        "x_train=train_datagen.flow_from_directory('/content/drive/MyDrive/Colab Notebooks/training_set',target_size=(64,64),batch_size=200,\n",
        "                                          class_mode='categorical',color_mode=\"grayscale\")"
      ]
    },
    {
      "cell_type": "markdown",
      "metadata": {
        "id": "pNsLjRsluO6H"
      },
      "source": [
        "Applying ImageDataGenerator to test set"
      ]
    },
    {
      "cell_type": "code",
      "execution_count": null,
      "metadata": {
        "colab": {
          "base_uri": "https://localhost:8080/"
        },
        "id": "w_hFC8XztpO0",
        "outputId": "633de26d-a9e7-41e8-871a-c7b119edafee"
      },
      "outputs": [
        {
          "output_type": "stream",
          "name": "stdout",
          "text": [
            "Found 2250 images belonging to 9 classes.\n"
          ]
        }
      ],
      "source": [
        "x_test=test_datagen.flow_from_directory('/content/drive/MyDrive/Colab Notebooks/test_set',target_size=(64,64),batch_size=200,\n",
        "                                          class_mode='categorical',color_mode=\"grayscale\")"
      ]
    },
    {
      "cell_type": "code",
      "execution_count": null,
      "metadata": {
        "id": "a8ZGR9usdrNF"
      },
      "outputs": [],
      "source": [
        "a=len(x_train)\n",
        "b=len(x_test)"
      ]
    },
    {
      "cell_type": "markdown",
      "metadata": {
        "id": "_lw7qrnFdtso"
      },
      "source": [
        "Length of training set"
      ]
    },
    {
      "cell_type": "code",
      "execution_count": null,
      "metadata": {
        "colab": {
          "base_uri": "https://localhost:8080/"
        },
        "id": "0FTaheN5dv8k",
        "outputId": "27efde2a-b94d-4e9f-9912-5dd3bc59f9c0"
      },
      "outputs": [
        {
          "output_type": "stream",
          "name": "stdout",
          "text": [
            "79\n"
          ]
        }
      ],
      "source": [
        "print(a)"
      ]
    },
    {
      "cell_type": "markdown",
      "metadata": {
        "id": "U1JzutxCdw2O"
      },
      "source": [
        "Length of test set"
      ]
    },
    {
      "cell_type": "code",
      "execution_count": null,
      "metadata": {
        "colab": {
          "base_uri": "https://localhost:8080/"
        },
        "id": "jNI2FL3PdzDq",
        "outputId": "60ac047e-fce1-40d2-8c40-bd68fffd80ec"
      },
      "outputs": [
        {
          "output_type": "stream",
          "name": "stdout",
          "text": [
            "12\n"
          ]
        }
      ],
      "source": [
        "print(b)"
      ]
    },
    {
      "cell_type": "markdown",
      "metadata": {
        "id": "9SRg-omujmM6"
      },
      "source": [
        "**Add Layers**"
      ]
    },
    {
      "cell_type": "code",
      "execution_count": null,
      "metadata": {
        "id": "iLJ7ctIrjsjB"
      },
      "outputs": [],
      "source": [
        "#create model\n",
        "model=Sequential()"
      ]
    },
    {
      "cell_type": "markdown",
      "metadata": {
        "id": "fZ7qF2celuwi"
      },
      "source": [
        "Add The Convolution Layer"
      ]
    },
    {
      "cell_type": "code",
      "execution_count": null,
      "metadata": {
        "id": "HcUkfqaOl8_R"
      },
      "outputs": [],
      "source": [
        "model.add(Convolution2D(32,(3,3),input_shape=(64,64,1),activation='relu'))"
      ]
    },
    {
      "cell_type": "markdown",
      "metadata": {
        "id": "iihGqcQ4oLUz"
      },
      "source": [
        "Add Pooling Layer"
      ]
    },
    {
      "cell_type": "code",
      "execution_count": null,
      "metadata": {
        "id": "PPt1BWsjoNVz"
      },
      "outputs": [],
      "source": [
        "model.add(MaxPooling2D(pool_size=(2,2)))"
      ]
    },
    {
      "cell_type": "markdown",
      "metadata": {
        "id": "HomIT83soZIm"
      },
      "source": [
        "Add The Flatten Layer"
      ]
    },
    {
      "cell_type": "code",
      "execution_count": null,
      "metadata": {
        "id": "cxnSNEo3oZ3q"
      },
      "outputs": [],
      "source": [
        "model.add(Flatten())"
      ]
    },
    {
      "cell_type": "markdown",
      "metadata": {
        "id": "vwu2BIcho7UT"
      },
      "source": [
        "Adding The Dense Layers"
      ]
    },
    {
      "cell_type": "code",
      "execution_count": null,
      "metadata": {
        "id": "FMEjPDaMqSWD"
      },
      "outputs": [],
      "source": [
        "#output layer\n",
        "model.add(Dense(units=9,activation='softmax'))"
      ]
    },
    {
      "cell_type": "markdown",
      "metadata": {
        "id": "QnBKeI3yrs_V"
      },
      "source": [
        "Fit The Model"
      ]
    },
    {
      "cell_type": "code",
      "execution_count": null,
      "metadata": {
        "colab": {
          "base_uri": "https://localhost:8080/"
        },
        "id": "XtvYEGAVrwnL",
        "outputId": "2437023d-9158-4fcb-8c89-3bbcceea293d"
      },
      "outputs": [
        {
          "output_type": "stream",
          "name": "stderr",
          "text": [
            "/usr/local/lib/python3.7/dist-packages/ipykernel_launcher.py:1: UserWarning: `Model.fit_generator` is deprecated and will be removed in a future version. Please use `Model.fit`, which supports generators.\n",
            "  \"\"\"Entry point for launching an IPython kernel.\n"
          ]
        },
        {
          "output_type": "stream",
          "name": "stdout",
          "text": [
            "Epoch 1/10\n",
            "79/79 [==============================] - 3328s 42s/step - loss: 0.5067 - accuracy: 0.8357 - val_loss: 0.2001 - val_accuracy: 0.9520\n",
            "Epoch 2/10\n",
            "79/79 [==============================] - 103s 1s/step - loss: 0.0488 - accuracy: 0.9862 - val_loss: 0.1503 - val_accuracy: 0.9742\n",
            "Epoch 3/10\n",
            "79/79 [==============================] - 100s 1s/step - loss: 0.0178 - accuracy: 0.9961 - val_loss: 0.1845 - val_accuracy: 0.9662\n",
            "Epoch 4/10\n",
            "79/79 [==============================] - 102s 1s/step - loss: 0.0150 - accuracy: 0.9956 - val_loss: 0.1446 - val_accuracy: 0.9764\n",
            "Epoch 5/10\n",
            "79/79 [==============================] - 103s 1s/step - loss: 0.0065 - accuracy: 0.9987 - val_loss: 0.1998 - val_accuracy: 0.9778\n",
            "Epoch 6/10\n",
            "79/79 [==============================] - 104s 1s/step - loss: 0.0053 - accuracy: 0.9986 - val_loss: 0.1860 - val_accuracy: 0.9773\n",
            "Epoch 7/10\n",
            "79/79 [==============================] - 102s 1s/step - loss: 0.0041 - accuracy: 0.9988 - val_loss: 0.2164 - val_accuracy: 0.9716\n",
            "Epoch 8/10\n",
            "79/79 [==============================] - 104s 1s/step - loss: 0.0055 - accuracy: 0.9983 - val_loss: 0.2088 - val_accuracy: 0.9773\n",
            "Epoch 9/10\n",
            "79/79 [==============================] - 105s 1s/step - loss: 0.0023 - accuracy: 0.9995 - val_loss: 0.1921 - val_accuracy: 0.9773\n",
            "Epoch 10/10\n",
            "79/79 [==============================] - 110s 1s/step - loss: 0.0044 - accuracy: 0.9988 - val_loss: 0.2347 - val_accuracy: 0.9782\n"
          ]
        },
        {
          "output_type": "execute_result",
          "data": {
            "text/plain": [
              "<keras.callbacks.History at 0x7fb8edcf5b10>"
            ]
          },
          "metadata": {},
          "execution_count": 23
        }
      ],
      "source": [
        "model.fit_generator(x_train,steps_per_epoch=len(x_train),epochs=10,validation_data=x_test,validation_steps=len(x_test))"
      ]
    },
    {
      "cell_type": "markdown",
      "metadata": {
        "id": "MVIcxRN-tm0b"
      },
      "source": [
        "Save The Model"
      ]
    },
    {
      "cell_type": "code",
      "execution_count": null,
      "metadata": {
        "id": "VUqN_C8UtpAP"
      },
      "outputs": [],
      "source": [
        "model.save('priya dharshini.h5')"
      ]
    },
    {
      "cell_type": "markdown",
      "metadata": {
        "id": "ZkOZnVsn4N0M"
      },
      "source": [
        "Import The Packages And Load The Saved Model"
      ]
    },
    {
      "cell_type": "code",
      "execution_count": null,
      "metadata": {
        "id": "qkpWQ-0k4RUN"
      },
      "outputs": [],
      "source": [
        "from tensorflow.keras.models import load_model\n",
        "import numpy as np\n",
        "import cv2\n",
        "from tensorflow.keras.preprocessing import image"
      ]
    },
    {
      "cell_type": "code",
      "execution_count": null,
      "metadata": {
        "id": "Il0lOr7S4t75"
      },
      "outputs": [],
      "source": [
        "#load the model\n",
        "model=load_model('/content/priya dharshini.h5')"
      ]
    },
    {
      "cell_type": "code",
      "execution_count": null,
      "metadata": {
        "colab": {
          "base_uri": "https://localhost:8080/",
          "height": 417
        },
        "id": "oxvt3aVk5IxR",
        "outputId": "5c82cc3c-a350-470d-b277-305417695266"
      },
      "outputs": [
        {
          "output_type": "execute_result",
          "data": {
            "text/plain": [
              "<PIL.Image.Image image mode=RGB size=500x400 at 0x7FB8DA50C8D0>"
            ],
            "image/png": "[encoded data removed]"
          },
          "metadata": {},
          "execution_count": 27
        }
      ],
      "source": [
        "img=image.load_img('/content/Dataset/test_set/A/10.png',target_size=(400,500))\n",
        "img"
      ]
    }
  ],
  "metadata": {
    "colab": {
      "provenance": []
    },
    "kernelspec": {
      "display_name": "Python 3 (ipykernel)",
      "language": "python",
      "name": "python3"
    },
    "language_info": {
      "codemirror_mode": {
        "name": "ipython",
        "version": 3
      },
      "file_extension": ".py",
      "mimetype": "text/x-python",
      "name": "python",
      "nbconvert_exporter": "python",
      "pygments_lexer": "ipython3",
      "version": "3.9.13"
    }
  },
  "nbformat": 4,
  "nbformat_minor": 0
}